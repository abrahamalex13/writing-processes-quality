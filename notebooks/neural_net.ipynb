{
 "cells": [
  {
   "cell_type": "code",
   "execution_count": 1,
   "metadata": {},
   "outputs": [
    {
     "name": "stderr",
     "output_type": "stream",
     "text": [
      "2023-11-19 19:32:38.669237: I external/local_tsl/tsl/cuda/cudart_stub.cc:31] Could not find cuda drivers on your machine, GPU will not be used.\n",
      "2023-11-19 19:32:38.700701: E external/local_xla/xla/stream_executor/cuda/cuda_dnn.cc:9261] Unable to register cuDNN factory: Attempting to register factory for plugin cuDNN when one has already been registered\n",
      "2023-11-19 19:32:38.700723: E external/local_xla/xla/stream_executor/cuda/cuda_fft.cc:607] Unable to register cuFFT factory: Attempting to register factory for plugin cuFFT when one has already been registered\n",
      "2023-11-19 19:32:38.701656: E external/local_xla/xla/stream_executor/cuda/cuda_blas.cc:1515] Unable to register cuBLAS factory: Attempting to register factory for plugin cuBLAS when one has already been registered\n",
      "2023-11-19 19:32:38.706659: I external/local_tsl/tsl/cuda/cudart_stub.cc:31] Could not find cuda drivers on your machine, GPU will not be used.\n",
      "2023-11-19 19:32:38.707081: I tensorflow/core/platform/cpu_feature_guard.cc:182] This TensorFlow binary is optimized to use available CPU instructions in performance-critical operations.\n",
      "To enable the following instructions: AVX2 FMA, in other operations, rebuild TensorFlow with the appropriate compiler flags.\n",
      "2023-11-19 19:32:39.354082: W tensorflow/compiler/tf2tensorrt/utils/py_utils.cc:38] TF-TRT Warning: Could not find TensorRT\n"
     ]
    }
   ],
   "source": [
    "import numpy as np\n",
    "import pandas as pd\n",
    "import tensorflow as tf\n",
    "from tensorflow import keras\n",
    "from sklearn.model_selection import train_test_split\n",
    "\n",
    "from transform_features_nn import (\n",
    "    extract, scrub_activity, scrub_text_change, concatenate_essay_from_logs\n",
    ")"
   ]
  },
  {
   "cell_type": "code",
   "execution_count": 2,
   "metadata": {},
   "outputs": [],
   "source": [
    "PATH_TRAIN_LOGS = \"./data/external/train_logs.csv\""
   ]
  },
  {
   "cell_type": "code",
   "execution_count": 3,
   "metadata": {},
   "outputs": [],
   "source": [
    "X_train_logs = extract(PATH_TRAIN_LOGS)\n",
    "X_train_logs = scrub_activity(X_train_logs)\n",
    "X_train_logs = scrub_text_change(X_train_logs)\n",
    "\n",
    "X_train_logs = [x for _, x in X_train_logs.groupby('id')]\n",
    "essays_text = pd.concat(\n",
    "    [concatenate_essay_from_logs(x) for x in X_train_logs],\n",
    "    axis=0\n",
    ")\n",
    "# keras TextVectorization does not recognize emdash as punctuation\n",
    "essays_text['essay'] = essays_text['essay'].str.replace(\"—\", \" \") \n",
    "\n",
    "y = pd.read_csv(\"./data/external/train_scores.csv\")\n",
    "y.rename(columns={'score': 'y'}, inplace=True)\n",
    "XY = pd.merge(essays_text, y, how='left')\n",
    "X, y = XY['essay'].to_numpy(), XY['y'].to_numpy()\n",
    "X, X_test, y, y_test = train_test_split(X, y, test_size=0.33, random_state=777)"
   ]
  },
  {
   "cell_type": "code",
   "execution_count": 4,
   "metadata": {},
   "outputs": [],
   "source": [
    "BATCH_SIZE = 32\n",
    "\n",
    "# in tf Dataset structure, one element is one X-y pair \n",
    "XY_train = tf.data.Dataset.from_tensor_slices((X, y)).batch(BATCH_SIZE)\n",
    "X_train = XY_train.map(lambda x, y: x)\n",
    "\n",
    "XY_test = tf.data.Dataset.from_tensor_slices((X_test, y_test)).batch(BATCH_SIZE)\n",
    "X_test = XY_test.map(lambda x, y: x)"
   ]
  },
  {
   "cell_type": "code",
   "execution_count": 5,
   "metadata": {},
   "outputs": [],
   "source": [
    "text_vectorization = tf.keras.layers.TextVectorization(\n",
    "    # with anonymized text, downscale recommended vocabulary size by magnitude \n",
    "    max_tokens=20000,\n",
    "    standardize='lower_and_strip_punctuation',\n",
    "    split='whitespace',\n",
    "    ngrams=2,\n",
    "    output_mode='tf_idf'\n",
    "    )\n",
    "\n",
    "text_vectorization.adapt(X_train)\n",
    "# values = text_vectorization.get_vocabulary()\n",
    "\n",
    "tfidf_XY_train = XY_train.map(\n",
    "    lambda x, y: (text_vectorization(x), y),\n",
    "    num_parallel_calls=4\n",
    ")\n",
    "\n",
    "tfidf_XY_test = XY_test.map(\n",
    "    lambda x, y: (text_vectorization(x), y),\n",
    "    num_parallel_calls=4\n",
    ")"
   ]
  },
  {
   "cell_type": "code",
   "execution_count": 6,
   "metadata": {},
   "outputs": [
    {
     "data": {
      "text/plain": [
       "397"
      ]
     },
     "execution_count": 6,
     "metadata": {},
     "output_type": "execute_result"
    }
   ],
   "source": [
    "n_tokens = text_vectorization.vocabulary_size()\n",
    "n_tokens"
   ]
  },
  {
   "cell_type": "code",
   "execution_count": 7,
   "metadata": {},
   "outputs": [],
   "source": [
    "values = text_vectorization.get_vocabulary()"
   ]
  },
  {
   "cell_type": "code",
   "execution_count": 11,
   "metadata": {},
   "outputs": [],
   "source": [
    "inputs = keras.Input(shape=(n_tokens,))\n",
    "x = keras.layers.Dense(64, activation=\"relu\")(inputs)\n",
    "x = keras.layers.Dropout(0.5)(x)\n",
    "outputs = keras.layers.Dense(1)(x)\n",
    "model = keras.Model(inputs, outputs)\n",
    "\n",
    "# model = keras.Sequential([\n",
    "#     keras.layers.Dense(16, activation='relu'),\n",
    "#     keras.layers.Dense(1)\n",
    "#     ])\n",
    "\n",
    "model.compile(\n",
    "    optimizer=\"rmsprop\",\n",
    "    loss=\"mean_squared_error\"\n",
    ")\n",
    "# model.summary()"
   ]
  },
  {
   "cell_type": "code",
   "execution_count": 12,
   "metadata": {},
   "outputs": [
    {
     "name": "stdout",
     "output_type": "stream",
     "text": [
      "Epoch 1/100\n",
      "52/52 [==============================] - 0s 3ms/step - loss: 12.6763 - val_loss: 1.5945\n",
      "Epoch 2/100\n",
      "52/52 [==============================] - 0s 1ms/step - loss: 2.7766 - val_loss: 1.3970\n",
      "Epoch 3/100\n",
      "52/52 [==============================] - 0s 1ms/step - loss: 2.7011 - val_loss: 1.3196\n",
      "Epoch 4/100\n",
      "52/52 [==============================] - 0s 1ms/step - loss: 2.3632 - val_loss: 1.2533\n",
      "Epoch 5/100\n",
      "52/52 [==============================] - 0s 1ms/step - loss: 2.3903 - val_loss: 1.2649\n",
      "Epoch 6/100\n",
      "52/52 [==============================] - 0s 1ms/step - loss: 2.1846 - val_loss: 1.4092\n",
      "Epoch 7/100\n",
      "52/52 [==============================] - 0s 1ms/step - loss: 1.9886 - val_loss: 1.2284\n",
      "Epoch 8/100\n",
      "52/52 [==============================] - 0s 1ms/step - loss: 2.0336 - val_loss: 1.1141\n",
      "Epoch 9/100\n",
      "52/52 [==============================] - 0s 1ms/step - loss: 1.8659 - val_loss: 1.0622\n",
      "Epoch 10/100\n",
      "52/52 [==============================] - 0s 1ms/step - loss: 1.8926 - val_loss: 1.0969\n",
      "Epoch 11/100\n",
      "52/52 [==============================] - 0s 1ms/step - loss: 1.8171 - val_loss: 1.0290\n",
      "Epoch 12/100\n",
      "52/52 [==============================] - 0s 1ms/step - loss: 1.8088 - val_loss: 1.0787\n",
      "Epoch 13/100\n",
      "52/52 [==============================] - 0s 1ms/step - loss: 1.6339 - val_loss: 1.1356\n",
      "Epoch 14/100\n",
      "52/52 [==============================] - 0s 1ms/step - loss: 1.5389 - val_loss: 0.9746\n",
      "Epoch 15/100\n",
      "52/52 [==============================] - 0s 1ms/step - loss: 1.5449 - val_loss: 1.1024\n",
      "Epoch 16/100\n",
      "52/52 [==============================] - 0s 1ms/step - loss: 1.4201 - val_loss: 1.0478\n",
      "Epoch 17/100\n",
      "52/52 [==============================] - 0s 1ms/step - loss: 1.4130 - val_loss: 0.8559\n",
      "Epoch 18/100\n",
      "52/52 [==============================] - 0s 1ms/step - loss: 1.3751 - val_loss: 0.9369\n",
      "Epoch 19/100\n",
      "52/52 [==============================] - 0s 1ms/step - loss: 1.3892 - val_loss: 0.9955\n",
      "Epoch 20/100\n",
      "52/52 [==============================] - 0s 1ms/step - loss: 1.2603 - val_loss: 1.0735\n",
      "Epoch 21/100\n",
      "52/52 [==============================] - 0s 1ms/step - loss: 1.2556 - val_loss: 0.8612\n",
      "Epoch 22/100\n",
      "52/52 [==============================] - 0s 1ms/step - loss: 1.2406 - val_loss: 1.1436\n",
      "Epoch 23/100\n",
      "52/52 [==============================] - 0s 1ms/step - loss: 1.2773 - val_loss: 0.8561\n",
      "Epoch 24/100\n",
      "52/52 [==============================] - 0s 2ms/step - loss: 1.2235 - val_loss: 0.7702\n",
      "Epoch 25/100\n",
      "52/52 [==============================] - 0s 1ms/step - loss: 1.1056 - val_loss: 0.7658\n",
      "Epoch 26/100\n",
      "52/52 [==============================] - 0s 1ms/step - loss: 1.1191 - val_loss: 0.7409\n",
      "Epoch 27/100\n",
      "52/52 [==============================] - 0s 1ms/step - loss: 1.0798 - val_loss: 0.7392\n",
      "Epoch 28/100\n",
      "52/52 [==============================] - 0s 1ms/step - loss: 1.0643 - val_loss: 0.7335\n",
      "Epoch 29/100\n",
      "52/52 [==============================] - 0s 1ms/step - loss: 0.9548 - val_loss: 0.7488\n",
      "Epoch 30/100\n",
      "52/52 [==============================] - 0s 1ms/step - loss: 1.0628 - val_loss: 0.8600\n",
      "Epoch 31/100\n",
      "52/52 [==============================] - 0s 1ms/step - loss: 1.0079 - val_loss: 0.7027\n",
      "Epoch 32/100\n",
      "52/52 [==============================] - 0s 1ms/step - loss: 1.0106 - val_loss: 0.8169\n",
      "Epoch 33/100\n",
      "52/52 [==============================] - 0s 1ms/step - loss: 0.9469 - val_loss: 0.9048\n",
      "Epoch 34/100\n",
      "52/52 [==============================] - 0s 1ms/step - loss: 0.9072 - val_loss: 0.7704\n",
      "Epoch 35/100\n",
      "52/52 [==============================] - 0s 1ms/step - loss: 0.9376 - val_loss: 0.7142\n",
      "Epoch 36/100\n",
      "52/52 [==============================] - 0s 1ms/step - loss: 0.9062 - val_loss: 0.7943\n",
      "Epoch 37/100\n",
      "52/52 [==============================] - 0s 1ms/step - loss: 0.9479 - val_loss: 0.9148\n",
      "Epoch 38/100\n",
      "52/52 [==============================] - 0s 1ms/step - loss: 0.8505 - val_loss: 0.6671\n",
      "Epoch 39/100\n",
      "52/52 [==============================] - 0s 1ms/step - loss: 0.8774 - val_loss: 1.0465\n",
      "Epoch 40/100\n",
      "52/52 [==============================] - 0s 1ms/step - loss: 0.8346 - val_loss: 0.6688\n",
      "Epoch 41/100\n",
      "52/52 [==============================] - 0s 1ms/step - loss: 0.8020 - val_loss: 0.6661\n",
      "Epoch 42/100\n",
      "52/52 [==============================] - 0s 1ms/step - loss: 0.8086 - val_loss: 0.6414\n",
      "Epoch 43/100\n",
      "52/52 [==============================] - 0s 1ms/step - loss: 0.7986 - val_loss: 0.6450\n",
      "Epoch 44/100\n",
      "52/52 [==============================] - 0s 1ms/step - loss: 0.7909 - val_loss: 0.9510\n",
      "Epoch 45/100\n",
      "52/52 [==============================] - 0s 1ms/step - loss: 0.7788 - val_loss: 0.7992\n",
      "Epoch 46/100\n",
      "52/52 [==============================] - 0s 1ms/step - loss: 0.7874 - val_loss: 0.6681\n",
      "Epoch 47/100\n",
      "52/52 [==============================] - 0s 1ms/step - loss: 0.7261 - val_loss: 0.6276\n",
      "Epoch 48/100\n",
      "52/52 [==============================] - 0s 1ms/step - loss: 0.6976 - val_loss: 0.7768\n",
      "Epoch 49/100\n",
      "52/52 [==============================] - 0s 1ms/step - loss: 0.7903 - val_loss: 0.6073\n",
      "Epoch 50/100\n",
      "52/52 [==============================] - 0s 1ms/step - loss: 0.6841 - val_loss: 0.6002\n",
      "Epoch 51/100\n",
      "52/52 [==============================] - 0s 2ms/step - loss: 0.7336 - val_loss: 0.6925\n",
      "Epoch 52/100\n",
      "52/52 [==============================] - 0s 1ms/step - loss: 0.7564 - val_loss: 0.6611\n",
      "Epoch 53/100\n",
      "52/52 [==============================] - 0s 1ms/step - loss: 0.7246 - val_loss: 0.6655\n",
      "Epoch 54/100\n",
      "52/52 [==============================] - 0s 1ms/step - loss: 0.6667 - val_loss: 0.6746\n",
      "Epoch 55/100\n",
      "52/52 [==============================] - 0s 1ms/step - loss: 0.6845 - val_loss: 0.7563\n",
      "Epoch 56/100\n",
      "52/52 [==============================] - 0s 1ms/step - loss: 0.6656 - val_loss: 0.6341\n",
      "Epoch 57/100\n",
      "52/52 [==============================] - 0s 1ms/step - loss: 0.6607 - val_loss: 0.8169\n",
      "Epoch 58/100\n",
      "52/52 [==============================] - 0s 1ms/step - loss: 0.6559 - val_loss: 0.6364\n",
      "Epoch 59/100\n",
      "52/52 [==============================] - 0s 1ms/step - loss: 0.6707 - val_loss: 0.5999\n",
      "Epoch 60/100\n",
      "52/52 [==============================] - 0s 1ms/step - loss: 0.6135 - val_loss: 0.5994\n",
      "Epoch 61/100\n",
      "52/52 [==============================] - 0s 1ms/step - loss: 0.6200 - val_loss: 0.5925\n",
      "Epoch 62/100\n",
      "52/52 [==============================] - 0s 1ms/step - loss: 0.5976 - val_loss: 0.5822\n",
      "Epoch 63/100\n",
      "52/52 [==============================] - 0s 1ms/step - loss: 0.6346 - val_loss: 0.5802\n",
      "Epoch 64/100\n",
      "52/52 [==============================] - 0s 1ms/step - loss: 0.6279 - val_loss: 0.6280\n",
      "Epoch 65/100\n",
      "52/52 [==============================] - 0s 1ms/step - loss: 0.5879 - val_loss: 0.5752\n",
      "Epoch 66/100\n",
      "52/52 [==============================] - 0s 1ms/step - loss: 0.6273 - val_loss: 0.5850\n",
      "Epoch 67/100\n",
      "52/52 [==============================] - 0s 1ms/step - loss: 0.6268 - val_loss: 0.7303\n",
      "Epoch 68/100\n",
      "52/52 [==============================] - 0s 1ms/step - loss: 0.5961 - val_loss: 0.6206\n",
      "Epoch 69/100\n",
      "52/52 [==============================] - 0s 1ms/step - loss: 0.5624 - val_loss: 0.5715\n",
      "Epoch 70/100\n",
      "52/52 [==============================] - 0s 1ms/step - loss: 0.6200 - val_loss: 0.5652\n",
      "Epoch 71/100\n",
      "52/52 [==============================] - 0s 1ms/step - loss: 0.5818 - val_loss: 0.5804\n",
      "Epoch 72/100\n",
      "52/52 [==============================] - 0s 1ms/step - loss: 0.5892 - val_loss: 0.6364\n",
      "Epoch 73/100\n",
      "52/52 [==============================] - 0s 1ms/step - loss: 0.5618 - val_loss: 0.6292\n",
      "Epoch 74/100\n",
      "52/52 [==============================] - 0s 1ms/step - loss: 0.5735 - val_loss: 0.5744\n",
      "Epoch 75/100\n",
      "52/52 [==============================] - 0s 1ms/step - loss: 0.5503 - val_loss: 0.5715\n",
      "Epoch 76/100\n",
      "52/52 [==============================] - 0s 1ms/step - loss: 0.5690 - val_loss: 0.7497\n",
      "Epoch 77/100\n",
      "52/52 [==============================] - 0s 1ms/step - loss: 0.5766 - val_loss: 0.5728\n",
      "Epoch 78/100\n",
      "52/52 [==============================] - 0s 1ms/step - loss: 0.5464 - val_loss: 0.5732\n",
      "Epoch 79/100\n",
      "52/52 [==============================] - 0s 1ms/step - loss: 0.5503 - val_loss: 0.6759\n",
      "Epoch 80/100\n",
      "52/52 [==============================] - 0s 1ms/step - loss: 0.5603 - val_loss: 0.5776\n"
     ]
    },
    {
     "data": {
      "text/plain": [
       "<keras.src.callbacks.History at 0x7f6c3032de20>"
      ]
     },
     "execution_count": 12,
     "metadata": {},
     "output_type": "execute_result"
    }
   ],
   "source": [
    "callback = tf.keras.callbacks.EarlyStopping(monitor='val_loss', patience=10)\n",
    "\n",
    "model.fit(\n",
    "    tfidf_XY_train.cache(),\n",
    "    validation_data=tfidf_XY_test.cache(),\n",
    "    epochs=100,\n",
    "    callbacks=[callback]\n",
    "    )"
   ]
  },
  {
   "cell_type": "code",
   "execution_count": 13,
   "metadata": {},
   "outputs": [],
   "source": [
    "# ngram=4:\n",
    "    # with punctuation: validation mse min is 0.6\n",
    "    # same without punctuation\n",
    "\n",
    "# ngram=2\n",
    "    # losing punctuation: again, mse ~0.6\n",
    "    # with punctuation: mse worsens\n"
   ]
  },
  {
   "cell_type": "code",
   "execution_count": null,
   "metadata": {},
   "outputs": [],
   "source": []
  }
 ],
 "metadata": {
  "kernelspec": {
   "display_name": "base",
   "language": "python",
   "name": "python3"
  },
  "language_info": {
   "codemirror_mode": {
    "name": "ipython",
    "version": 3
   },
   "file_extension": ".py",
   "mimetype": "text/x-python",
   "name": "python",
   "nbconvert_exporter": "python",
   "pygments_lexer": "ipython3",
   "version": "3.9.18"
  },
  "orig_nbformat": 4
 },
 "nbformat": 4,
 "nbformat_minor": 2
}
