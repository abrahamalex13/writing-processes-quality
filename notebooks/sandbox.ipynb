{
 "cells": [
  {
   "cell_type": "code",
   "execution_count": 1,
   "metadata": {},
   "outputs": [],
   "source": [
    "import pandas as pd\n",
    "import numpy as np\n",
    "from sklearn.compose import ColumnTransformer\n",
    "from sklearn import preprocessing\n",
    "import plotnine as p9\n"
   ]
  },
  {
   "cell_type": "code",
   "execution_count": 2,
   "metadata": {},
   "outputs": [],
   "source": [
    "X_train = pd.read_csv(\"./data/external/train_logs.csv\")"
   ]
  },
  {
   "cell_type": "code",
   "execution_count": 3,
   "metadata": {},
   "outputs": [],
   "source": [
    "y_train = pd.read_csv(\"./data/external/train_scores.csv\")"
   ]
  },
  {
   "cell_type": "code",
   "execution_count": 4,
   "metadata": {},
   "outputs": [
    {
     "data": {
      "text/html": [
       "<div>\n",
       "<style scoped>\n",
       "    .dataframe tbody tr th:only-of-type {\n",
       "        vertical-align: middle;\n",
       "    }\n",
       "\n",
       "    .dataframe tbody tr th {\n",
       "        vertical-align: top;\n",
       "    }\n",
       "\n",
       "    .dataframe thead th {\n",
       "        text-align: right;\n",
       "    }\n",
       "</style>\n",
       "<table border=\"1\" class=\"dataframe\">\n",
       "  <thead>\n",
       "    <tr style=\"text-align: right;\">\n",
       "      <th></th>\n",
       "      <th>id</th>\n",
       "      <th>event_id</th>\n",
       "      <th>down_time</th>\n",
       "      <th>up_time</th>\n",
       "      <th>action_time</th>\n",
       "      <th>activity</th>\n",
       "      <th>down_event</th>\n",
       "      <th>up_event</th>\n",
       "      <th>text_change</th>\n",
       "      <th>cursor_position</th>\n",
       "      <th>word_count</th>\n",
       "    </tr>\n",
       "  </thead>\n",
       "  <tbody>\n",
       "    <tr>\n",
       "      <th>0</th>\n",
       "      <td>001519c8</td>\n",
       "      <td>1</td>\n",
       "      <td>4526</td>\n",
       "      <td>4557</td>\n",
       "      <td>31</td>\n",
       "      <td>Nonproduction</td>\n",
       "      <td>Leftclick</td>\n",
       "      <td>Leftclick</td>\n",
       "      <td>NoChange</td>\n",
       "      <td>0</td>\n",
       "      <td>0</td>\n",
       "    </tr>\n",
       "    <tr>\n",
       "      <th>1</th>\n",
       "      <td>001519c8</td>\n",
       "      <td>2</td>\n",
       "      <td>4558</td>\n",
       "      <td>4962</td>\n",
       "      <td>404</td>\n",
       "      <td>Nonproduction</td>\n",
       "      <td>Leftclick</td>\n",
       "      <td>Leftclick</td>\n",
       "      <td>NoChange</td>\n",
       "      <td>0</td>\n",
       "      <td>0</td>\n",
       "    </tr>\n",
       "    <tr>\n",
       "      <th>2</th>\n",
       "      <td>001519c8</td>\n",
       "      <td>3</td>\n",
       "      <td>106571</td>\n",
       "      <td>106571</td>\n",
       "      <td>0</td>\n",
       "      <td>Nonproduction</td>\n",
       "      <td>Shift</td>\n",
       "      <td>Shift</td>\n",
       "      <td>NoChange</td>\n",
       "      <td>0</td>\n",
       "      <td>0</td>\n",
       "    </tr>\n",
       "    <tr>\n",
       "      <th>3</th>\n",
       "      <td>001519c8</td>\n",
       "      <td>4</td>\n",
       "      <td>106686</td>\n",
       "      <td>106777</td>\n",
       "      <td>91</td>\n",
       "      <td>Input</td>\n",
       "      <td>q</td>\n",
       "      <td>q</td>\n",
       "      <td>q</td>\n",
       "      <td>1</td>\n",
       "      <td>1</td>\n",
       "    </tr>\n",
       "    <tr>\n",
       "      <th>4</th>\n",
       "      <td>001519c8</td>\n",
       "      <td>5</td>\n",
       "      <td>107196</td>\n",
       "      <td>107323</td>\n",
       "      <td>127</td>\n",
       "      <td>Input</td>\n",
       "      <td>q</td>\n",
       "      <td>q</td>\n",
       "      <td>q</td>\n",
       "      <td>2</td>\n",
       "      <td>1</td>\n",
       "    </tr>\n",
       "  </tbody>\n",
       "</table>\n",
       "</div>"
      ],
      "text/plain": [
       "         id  event_id  down_time  up_time  action_time       activity  \\\n",
       "0  001519c8         1       4526     4557           31  Nonproduction   \n",
       "1  001519c8         2       4558     4962          404  Nonproduction   \n",
       "2  001519c8         3     106571   106571            0  Nonproduction   \n",
       "3  001519c8         4     106686   106777           91          Input   \n",
       "4  001519c8         5     107196   107323          127          Input   \n",
       "\n",
       "  down_event   up_event text_change  cursor_position  word_count  \n",
       "0  Leftclick  Leftclick    NoChange                0           0  \n",
       "1  Leftclick  Leftclick    NoChange                0           0  \n",
       "2      Shift      Shift    NoChange                0           0  \n",
       "3          q          q           q                1           1  \n",
       "4          q          q           q                2           1  "
      ]
     },
     "execution_count": 4,
     "metadata": {},
     "output_type": "execute_result"
    }
   ],
   "source": [
    "X_train.head()"
   ]
  },
  {
   "cell_type": "code",
   "execution_count": 5,
   "metadata": {},
   "outputs": [
    {
     "data": {
      "text/plain": [
       "(8405898, 11)"
      ]
     },
     "execution_count": 5,
     "metadata": {},
     "output_type": "execute_result"
    }
   ],
   "source": [
    "X_train.shape"
   ]
  },
  {
   "cell_type": "code",
   "execution_count": 6,
   "metadata": {},
   "outputs": [
    {
     "data": {
      "text/plain": [
       "id                 object\n",
       "event_id            int64\n",
       "down_time           int64\n",
       "up_time             int64\n",
       "action_time         int64\n",
       "activity           object\n",
       "down_event         object\n",
       "up_event           object\n",
       "text_change        object\n",
       "cursor_position     int64\n",
       "word_count          int64\n",
       "dtype: object"
      ]
     },
     "execution_count": 6,
     "metadata": {},
     "output_type": "execute_result"
    }
   ],
   "source": [
    "X_train.dtypes"
   ]
  },
  {
   "cell_type": "code",
   "execution_count": 7,
   "metadata": {},
   "outputs": [
    {
     "data": {
      "text/plain": [
       "id                 0.0\n",
       "event_id           0.0\n",
       "down_time          0.0\n",
       "up_time            0.0\n",
       "action_time        0.0\n",
       "activity           0.0\n",
       "down_event         0.0\n",
       "up_event           0.0\n",
       "text_change        0.0\n",
       "cursor_position    0.0\n",
       "word_count         0.0\n",
       "dtype: float64"
      ]
     },
     "execution_count": 7,
     "metadata": {},
     "output_type": "execute_result"
    }
   ],
   "source": [
    "X_train.isnull().mean()"
   ]
  },
  {
   "cell_type": "code",
   "execution_count": 8,
   "metadata": {},
   "outputs": [],
   "source": [
    "assert(all(X_train[['id', 'event_id']].value_counts() == 1))"
   ]
  },
  {
   "cell_type": "code",
   "execution_count": null,
   "metadata": {},
   "outputs": [],
   "source": []
  },
  {
   "cell_type": "code",
   "execution_count": 9,
   "metadata": {},
   "outputs": [],
   "source": [
    "# problem: what kind of \"events\" happen per \"activity\"?\n",
    "X_train_sub = X_train.loc[X_train['id'] == '001519c8']\n",
    "\n",
    "# narrative for this case:\n",
    "    # Type 12 words with only a couple isolated deletes.\n",
    "    # \"Delete burst\" -- of increased scale relative to isolated deletes\n",
    "    # write 6 more words\n",
    "    # click the mouse several times -- thinking?\n",
    "\n",
    "\n",
    "# how do \"Nonproduction\" activities map to literature concepts?\n",
    "    # these cases probably need scrubbed when thinking about total keystroke activity.\n",
    "# two Remove/Cut activity, with equal down_event & up_event, may have different text_change. why?\n",
    "    # ah -- deleting a space, versus deleting a written character\n",
    "\n",
    "# Nonproduction-Leftclick: navigate with mouse, then click to specify new cursor position\n",
    "    \n",
    "# \"activity\" is a higher-level summary of an \"event\"\n",
    "    # multiple events qualify as a single \"activity\""
   ]
  },
  {
   "cell_type": "code",
   "execution_count": 10,
   "metadata": {},
   "outputs": [
    {
     "name": "stderr",
     "output_type": "stream",
     "text": [
      "C:\\Users\\alexa\\AppData\\Local\\Temp\\ipykernel_29680\\2935678159.py:28: SettingWithCopyWarning: \n",
      "A value is trying to be set on a copy of a slice from a DataFrame\n",
      "\n",
      "See the caveats in the documentation: https://pandas.pydata.org/pandas-docs/stable/user_guide/indexing.html#returning-a-view-versus-a-copy\n"
     ]
    }
   ],
   "source": [
    "# no explicit record for a pause. pauses are omitted.\n",
    "X_train_sub = (\n",
    "    X_train_sub\n",
    "    .sort_values([\"id\", \"event_id\"], ascending=[True, True])\n",
    "    )\n",
    "\n",
    "X_train_sub['up_time_lag1'] = (\n",
    "    X_train_sub\n",
    "    .groupby(['id'])\n",
    "    ['up_time']\n",
    "    .shift(1)\n",
    "    )\n",
    "\n",
    "X_train_sub['preceding_pause_time'] = (\n",
    "    X_train_sub['down_time'] - X_train_sub['up_time_lag1']\n",
    "    )\n",
    "# expect some negative pause times -- interpret as, no real pause\n",
    "has_no_real_pause = X_train_sub['preceding_pause_time'] <= 0\n",
    "X_train_sub.loc[has_no_real_pause, 'preceding_pause_time'] = None\n",
    "\n",
    "# if pause exceeds threshold duration, a \"burst\" has ended\n",
    "MS_PER_S = 1000\n",
    "SECONDS_PER_BURST = 2\n",
    "\n",
    "X_train_sub['is_new_burst_start'] = (\n",
    "    X_train_sub['preceding_pause_time'] > MS_PER_S * SECONDS_PER_BURST\n",
    "    ).astype(int)\n",
    "X_train_sub['is_new_burst_start'][0] = 1\n",
    "X_train_sub['burst_id'] = (\n",
    "    X_train_sub\n",
    "    .groupby(['id'])\n",
    "    ['is_new_burst_start']\n",
    "    .cumsum()\n",
    "    )\n",
    "X_train_sub['burst_time_start'] = (\n",
    "    X_train_sub\n",
    "    .groupby(['id', 'burst_id'])\n",
    "    ['down_time']\n",
    "    .transform('min')\n",
    "    )\n",
    "X_train_sub['burst_time_end'] = (\n",
    "    X_train_sub\n",
    "    .groupby(['id', 'burst_id'])\n",
    "    ['up_time']\n",
    "    .transform('max')\n",
    "    )\n",
    "X_train_sub['burst_duration'] = X_train_sub['burst_time_end'] - X_train_sub['burst_time_start']\n",
    "\n",
    "# burst type?"
   ]
  },
  {
   "cell_type": "code",
   "execution_count": 11,
   "metadata": {},
   "outputs": [
    {
     "data": {
      "text/html": [
       "<div>\n",
       "<style scoped>\n",
       "    .dataframe tbody tr th:only-of-type {\n",
       "        vertical-align: middle;\n",
       "    }\n",
       "\n",
       "    .dataframe tbody tr th {\n",
       "        vertical-align: top;\n",
       "    }\n",
       "\n",
       "    .dataframe thead th {\n",
       "        text-align: right;\n",
       "    }\n",
       "</style>\n",
       "<table border=\"1\" class=\"dataframe\">\n",
       "  <thead>\n",
       "    <tr style=\"text-align: right;\">\n",
       "      <th></th>\n",
       "      <th>window_30s</th>\n",
       "      <th>count</th>\n",
       "    </tr>\n",
       "  </thead>\n",
       "  <tbody>\n",
       "    <tr>\n",
       "      <th>53</th>\n",
       "      <td>(0, 30000]</td>\n",
       "      <td>2</td>\n",
       "    </tr>\n",
       "    <tr>\n",
       "      <th>54</th>\n",
       "      <td>(30000, 60000]</td>\n",
       "      <td>0</td>\n",
       "    </tr>\n",
       "    <tr>\n",
       "      <th>59</th>\n",
       "      <td>(60000, 90000]</td>\n",
       "      <td>0</td>\n",
       "    </tr>\n",
       "    <tr>\n",
       "      <th>18</th>\n",
       "      <td>(90000, 120000]</td>\n",
       "      <td>64</td>\n",
       "    </tr>\n",
       "    <tr>\n",
       "      <th>52</th>\n",
       "      <td>(120000, 150000]</td>\n",
       "      <td>3</td>\n",
       "    </tr>\n",
       "    <tr>\n",
       "      <th>4</th>\n",
       "      <td>(150000, 180000]</td>\n",
       "      <td>93</td>\n",
       "    </tr>\n",
       "    <tr>\n",
       "      <th>33</th>\n",
       "      <td>(180000, 210000]</td>\n",
       "      <td>32</td>\n",
       "    </tr>\n",
       "    <tr>\n",
       "      <th>25</th>\n",
       "      <td>(210000, 240000]</td>\n",
       "      <td>42</td>\n",
       "    </tr>\n",
       "    <tr>\n",
       "      <th>34</th>\n",
       "      <td>(240000, 270000]</td>\n",
       "      <td>32</td>\n",
       "    </tr>\n",
       "    <tr>\n",
       "      <th>15</th>\n",
       "      <td>(270000, 300000]</td>\n",
       "      <td>72</td>\n",
       "    </tr>\n",
       "  </tbody>\n",
       "</table>\n",
       "</div>"
      ],
      "text/plain": [
       "          window_30s  count\n",
       "53        (0, 30000]      2\n",
       "54    (30000, 60000]      0\n",
       "59    (60000, 90000]      0\n",
       "18   (90000, 120000]     64\n",
       "52  (120000, 150000]      3\n",
       "4   (150000, 180000]     93\n",
       "33  (180000, 210000]     32\n",
       "25  (210000, 240000]     42\n",
       "34  (240000, 270000]     32\n",
       "15  (270000, 300000]     72"
      ]
     },
     "execution_count": 11,
     "metadata": {},
     "output_type": "execute_result"
    }
   ],
   "source": [
    "# windows allow for time-sequence features\n",
    "TOTAL_MIN = 30\n",
    "SECONDS_PER_MIN = 60\n",
    "SECONDS_PER_WINDOW = 30\n",
    "\n",
    "X_train_sub['window_30s'] = pd.cut(\n",
    "    X_train_sub['down_time'],\n",
    "    bins=np.arange(\n",
    "        0, \n",
    "        TOTAL_MIN * SECONDS_PER_MIN * MS_PER_S + 5*MS_PER_S*2, \n",
    "        SECONDS_PER_WINDOW * MS_PER_S\n",
    "        )\n",
    "    )\n",
    "\n",
    "# must ensure that time windows with 0 events still accounted for \n",
    "# in later tabulations\n",
    "(\n",
    "    X_train_sub['window_30s']\n",
    "    .value_counts()\n",
    "    .reset_index(drop=False)\n",
    "    .sort_values('window_30s')\n",
    "    .head(10)\n",
    ")"
   ]
  },
  {
   "cell_type": "code",
   "execution_count": 12,
   "metadata": {},
   "outputs": [
    {
     "data": {
      "text/plain": [
       "preceding_pause_time_bucket\n",
       "(0.0, 500.0]            1334\n",
       "(500.0, 1000.0]          116\n",
       "(1000.0, 1500.0]          51\n",
       "(1500.0, 2000.0]          30\n",
       "(3000.0, 3500.0]          14\n",
       "                        ... \n",
       "(76000.0, 76500.0]         0\n",
       "(75500.0, 76000.0]         0\n",
       "(75000.0, 75500.0]         0\n",
       "(74500.0, 75000.0]         0\n",
       "(199000.0, 199500.0]       0\n",
       "Name: count, Length: 399, dtype: int64"
      ]
     },
     "execution_count": 12,
     "metadata": {},
     "output_type": "execute_result"
    }
   ],
   "source": [
    "# summarize pause distr\n",
    "MS_IN_PAUSE_BUCKET_MAX = 200e3\n",
    "PAUSE_BUCKET_STEP_MS = 500\n",
    "\n",
    "X_train_sub['preceding_pause_time_bucket'] = pd.cut(\n",
    "    X_train_sub['preceding_pause_time'],\n",
    "    bins=np.arange(\n",
    "        0, \n",
    "        MS_IN_PAUSE_BUCKET_MAX,\n",
    "        PAUSE_BUCKET_STEP_MS\n",
    "        )\n",
    "    )\n",
    "\n",
    "X_train_sub['preceding_pause_time_bucket'].value_counts()\n",
    "\n",
    "# WARNING: this representation of pause distribution is dense & large\n",
    "# a few parameters from distribution model far more succinct\n"
   ]
  },
  {
   "cell_type": "code",
   "execution_count": 13,
   "metadata": {},
   "outputs": [
    {
     "name": "stderr",
     "output_type": "stream",
     "text": [
      "c:\\Users\\alexa\\Anaconda3\\lib\\site-packages\\sklearn\\preprocessing\\_encoders.py:868: FutureWarning: `sparse` was renamed to `sparse_output` in version 1.2 and will be removed in 1.4. `sparse_output` is ignored unless you leave `sparse` to its default value.\n"
     ]
    }
   ],
   "source": [
    "ACTIVITY_CATEGORIES = ['Nonproduction', 'Input', 'Remove/Cut']\n",
    "\n",
    "pipeline_activity_onehot = ColumnTransformer(\n",
    "    transformers=[(\n",
    "        'onehot_encode', \n",
    "        preprocessing.OneHotEncoder(\n",
    "            categories=[ ACTIVITY_CATEGORIES ], \n",
    "            sparse=False, \n",
    "            handle_unknown='infrequent_if_exist'\n",
    "            ),\n",
    "        [\"activity\"]\n",
    "    )],\n",
    "    remainder='passthrough',\n",
    "    verbose_feature_names_out=False\n",
    "    )\n",
    "pipeline_activity_onehot.fit(X_train_sub)\n",
    "original_categorical = X_train_sub['activity']\n",
    "\n",
    "X_train_sub_dtypes = X_train_sub.dtypes.to_dict()\n",
    "X_train_sub = pipeline_activity_onehot.transform(X_train_sub)\n",
    "X_train_sub = pd.DataFrame(X_train_sub, columns=pipeline_activity_onehot.get_feature_names_out())\n",
    "X_train_sub = pd.concat([X_train_sub, original_categorical], axis=1)\n",
    "X_train_sub = X_train_sub.astype(X_train_sub_dtypes)"
   ]
  },
  {
   "cell_type": "code",
   "execution_count": 14,
   "metadata": {},
   "outputs": [],
   "source": [
    "for activity in ACTIVITY_CATEGORIES:\n",
    "\n",
    "    X_train_sub['burst_action_time_' + activity] = (\n",
    "        X_train_sub\n",
    "        .assign(activity_x_event_time = lambda x: x['activity_' + activity] * x.action_time)\n",
    "        .groupby(['id', 'burst_id'])\n",
    "        ['activity_x_event_time']\n",
    "        .transform('sum')\n",
    "        ).astype(float)\n",
    "    \n",
    "X_train_sub['burst_type'] = (\n",
    "    X_train_sub\n",
    "    [['burst_action_time_' + activity for activity in ACTIVITY_CATEGORIES]]\n",
    "    .idxmax(axis=1)\n",
    "    )\n",
    "X_train_sub['burst_type'] = (\n",
    "    X_train_sub['burst_type']\n",
    "    .str\n",
    "    .replace(\"burst_action_time_\", \"\", regex=True)\n",
    "    )"
   ]
  },
  {
   "cell_type": "code",
   "execution_count": 15,
   "metadata": {},
   "outputs": [
    {
     "name": "stderr",
     "output_type": "stream",
     "text": [
      "c:\\Users\\alexa\\Anaconda3\\lib\\site-packages\\sklearn\\preprocessing\\_encoders.py:868: FutureWarning: `sparse` was renamed to `sparse_output` in version 1.2 and will be removed in 1.4. `sparse_output` is ignored unless you leave `sparse` to its default value.\n"
     ]
    }
   ],
   "source": [
    "ACTIVITY_CATEGORIES = ['Nonproduction', 'Input', 'Remove/Cut']\n",
    "\n",
    "pipeline_burst_type_onehot = ColumnTransformer(\n",
    "    transformers=[(\n",
    "        'onehot_encode', \n",
    "        preprocessing.OneHotEncoder(\n",
    "            categories=[ ACTIVITY_CATEGORIES ], \n",
    "            sparse=False, \n",
    "            handle_unknown='infrequent_if_exist'\n",
    "            ),\n",
    "        [\"burst_type\"]\n",
    "    )],\n",
    "    remainder='passthrough',\n",
    "    verbose_feature_names_out=False\n",
    "    )\n",
    "pipeline_burst_type_onehot.fit(X_train_sub)\n",
    "original_categorical = X_train_sub['burst_type']\n",
    "\n",
    "X_train_sub_dtypes = X_train_sub.dtypes.to_dict()\n",
    "X_train_sub = pipeline_burst_type_onehot.transform(X_train_sub)\n",
    "X_train_sub = pd.DataFrame(X_train_sub, columns=pipeline_burst_type_onehot.get_feature_names_out())\n",
    "X_train_sub = pd.concat([X_train_sub, original_categorical], axis=1)\n",
    "X_train_sub = X_train_sub.astype(X_train_sub_dtypes)"
   ]
  },
  {
   "cell_type": "code",
   "execution_count": 16,
   "metadata": {},
   "outputs": [],
   "source": [
    "for activity in ACTIVITY_CATEGORIES:\n",
    "\n",
    "    X_train_sub['is_new_burst_start_' + activity] = (\n",
    "        X_train_sub['is_new_burst_start'] * \n",
    "        X_train_sub['burst_type_' + activity]\n",
    "        )"
   ]
  },
  {
   "cell_type": "code",
   "execution_count": 17,
   "metadata": {},
   "outputs": [],
   "source": [
    "X_train_sub = X_train_sub[[\n",
    "    \"id\",\n",
    "    \"event_id\",\n",
    "    \"window_30s\",\n",
    "    \"burst_id\",\n",
    "    \"burst_type\",\n",
    "    \"burst_type_Nonproduction\",\n",
    "    \"burst_type_Input\",\n",
    "    \"burst_type_Remove/Cut\",\n",
    "    \"is_new_burst_start\",\n",
    "    \"is_new_burst_start_Nonproduction\",\n",
    "    \"is_new_burst_start_Input\",\n",
    "    \"is_new_burst_start_Remove/Cut\",\n",
    "    \"burst_time_start\",\n",
    "    \"burst_time_end\",\n",
    "    \"burst_duration\",\n",
    "\n",
    "    \"down_time\",\n",
    "    \"up_time\",\t\n",
    "    \"action_time\",\t\n",
    "    \"activity\",\t\n",
    "    \"activity_Nonproduction\",\n",
    "    \"activity_Input\",\n",
    "    \"activity_Remove/Cut\",\n",
    "    \"down_event\",\t\n",
    "    \"up_event\",\t\n",
    "    \"text_change\",\n",
    "    \"cursor_position\",\t\n",
    "    \"word_count\",\n",
    "\n",
    "    \"up_time_lag1\",\n",
    "    \"preceding_pause_time\",\n",
    "    \"preceding_pause_time_bucket\",\n",
    "\n",
    "    \"burst_action_time_Nonproduction\",\n",
    "    \"burst_action_time_Input\",\n",
    "    \"burst_action_time_Remove/Cut\"\n",
    "    ]]\n"
   ]
  },
  {
   "cell_type": "code",
   "execution_count": 18,
   "metadata": {},
   "outputs": [],
   "source": [
    "X_train_sub.to_csv(\"./data/interim/train_logs_case_enriched.csv\", index=False)"
   ]
  },
  {
   "cell_type": "code",
   "execution_count": null,
   "metadata": {},
   "outputs": [],
   "source": []
  },
  {
   "cell_type": "code",
   "execution_count": 19,
   "metadata": {},
   "outputs": [
    {
     "data": {
      "text/html": [
       "<div>\n",
       "<style scoped>\n",
       "    .dataframe tbody tr th:only-of-type {\n",
       "        vertical-align: middle;\n",
       "    }\n",
       "\n",
       "    .dataframe tbody tr th {\n",
       "        vertical-align: top;\n",
       "    }\n",
       "\n",
       "    .dataframe thead th {\n",
       "        text-align: right;\n",
       "    }\n",
       "</style>\n",
       "<table border=\"1\" class=\"dataframe\">\n",
       "  <thead>\n",
       "    <tr style=\"text-align: right;\">\n",
       "      <th></th>\n",
       "      <th>id</th>\n",
       "      <th>event_id</th>\n",
       "      <th>window_30s</th>\n",
       "      <th>burst_id</th>\n",
       "      <th>burst_type</th>\n",
       "      <th>burst_type_Nonproduction</th>\n",
       "      <th>burst_type_Input</th>\n",
       "      <th>burst_type_Remove/Cut</th>\n",
       "      <th>is_new_burst_start</th>\n",
       "      <th>is_new_burst_start_Nonproduction</th>\n",
       "      <th>...</th>\n",
       "      <th>up_event</th>\n",
       "      <th>text_change</th>\n",
       "      <th>cursor_position</th>\n",
       "      <th>word_count</th>\n",
       "      <th>up_time_lag1</th>\n",
       "      <th>preceding_pause_time</th>\n",
       "      <th>preceding_pause_time_bucket</th>\n",
       "      <th>burst_action_time_Nonproduction</th>\n",
       "      <th>burst_action_time_Input</th>\n",
       "      <th>burst_action_time_Remove/Cut</th>\n",
       "    </tr>\n",
       "  </thead>\n",
       "  <tbody>\n",
       "    <tr>\n",
       "      <th>0</th>\n",
       "      <td>001519c8</td>\n",
       "      <td>1</td>\n",
       "      <td>(0, 30000]</td>\n",
       "      <td>1</td>\n",
       "      <td>Nonproduction</td>\n",
       "      <td>1.0</td>\n",
       "      <td>0.0</td>\n",
       "      <td>0.0</td>\n",
       "      <td>1</td>\n",
       "      <td>1.0</td>\n",
       "      <td>...</td>\n",
       "      <td>Leftclick</td>\n",
       "      <td>NoChange</td>\n",
       "      <td>0</td>\n",
       "      <td>0</td>\n",
       "      <td>NaN</td>\n",
       "      <td>NaN</td>\n",
       "      <td>NaN</td>\n",
       "      <td>435.0</td>\n",
       "      <td>0.0</td>\n",
       "      <td>0.0</td>\n",
       "    </tr>\n",
       "    <tr>\n",
       "      <th>1</th>\n",
       "      <td>001519c8</td>\n",
       "      <td>2</td>\n",
       "      <td>(0, 30000]</td>\n",
       "      <td>1</td>\n",
       "      <td>Nonproduction</td>\n",
       "      <td>1.0</td>\n",
       "      <td>0.0</td>\n",
       "      <td>0.0</td>\n",
       "      <td>0</td>\n",
       "      <td>0.0</td>\n",
       "      <td>...</td>\n",
       "      <td>Leftclick</td>\n",
       "      <td>NoChange</td>\n",
       "      <td>0</td>\n",
       "      <td>0</td>\n",
       "      <td>4557.0</td>\n",
       "      <td>1.0</td>\n",
       "      <td>(0.0, 500.0]</td>\n",
       "      <td>435.0</td>\n",
       "      <td>0.0</td>\n",
       "      <td>0.0</td>\n",
       "    </tr>\n",
       "    <tr>\n",
       "      <th>2</th>\n",
       "      <td>001519c8</td>\n",
       "      <td>3</td>\n",
       "      <td>(90000, 120000]</td>\n",
       "      <td>2</td>\n",
       "      <td>Input</td>\n",
       "      <td>0.0</td>\n",
       "      <td>1.0</td>\n",
       "      <td>0.0</td>\n",
       "      <td>1</td>\n",
       "      <td>0.0</td>\n",
       "      <td>...</td>\n",
       "      <td>Shift</td>\n",
       "      <td>NoChange</td>\n",
       "      <td>0</td>\n",
       "      <td>0</td>\n",
       "      <td>4962.0</td>\n",
       "      <td>101609.0</td>\n",
       "      <td>(101500.0, 102000.0]</td>\n",
       "      <td>0.0</td>\n",
       "      <td>7814.0</td>\n",
       "      <td>188.0</td>\n",
       "    </tr>\n",
       "    <tr>\n",
       "      <th>3</th>\n",
       "      <td>001519c8</td>\n",
       "      <td>4</td>\n",
       "      <td>(90000, 120000]</td>\n",
       "      <td>2</td>\n",
       "      <td>Input</td>\n",
       "      <td>0.0</td>\n",
       "      <td>1.0</td>\n",
       "      <td>0.0</td>\n",
       "      <td>0</td>\n",
       "      <td>0.0</td>\n",
       "      <td>...</td>\n",
       "      <td>q</td>\n",
       "      <td>q</td>\n",
       "      <td>1</td>\n",
       "      <td>1</td>\n",
       "      <td>106571.0</td>\n",
       "      <td>115.0</td>\n",
       "      <td>(0.0, 500.0]</td>\n",
       "      <td>0.0</td>\n",
       "      <td>7814.0</td>\n",
       "      <td>188.0</td>\n",
       "    </tr>\n",
       "    <tr>\n",
       "      <th>4</th>\n",
       "      <td>001519c8</td>\n",
       "      <td>5</td>\n",
       "      <td>(90000, 120000]</td>\n",
       "      <td>2</td>\n",
       "      <td>Input</td>\n",
       "      <td>0.0</td>\n",
       "      <td>1.0</td>\n",
       "      <td>0.0</td>\n",
       "      <td>0</td>\n",
       "      <td>0.0</td>\n",
       "      <td>...</td>\n",
       "      <td>q</td>\n",
       "      <td>q</td>\n",
       "      <td>2</td>\n",
       "      <td>1</td>\n",
       "      <td>106777.0</td>\n",
       "      <td>419.0</td>\n",
       "      <td>(0.0, 500.0]</td>\n",
       "      <td>0.0</td>\n",
       "      <td>7814.0</td>\n",
       "      <td>188.0</td>\n",
       "    </tr>\n",
       "    <tr>\n",
       "      <th>5</th>\n",
       "      <td>001519c8</td>\n",
       "      <td>6</td>\n",
       "      <td>(90000, 120000]</td>\n",
       "      <td>2</td>\n",
       "      <td>Input</td>\n",
       "      <td>0.0</td>\n",
       "      <td>1.0</td>\n",
       "      <td>0.0</td>\n",
       "      <td>0</td>\n",
       "      <td>0.0</td>\n",
       "      <td>...</td>\n",
       "      <td>q</td>\n",
       "      <td>q</td>\n",
       "      <td>3</td>\n",
       "      <td>1</td>\n",
       "      <td>107323.0</td>\n",
       "      <td>NaN</td>\n",
       "      <td>NaN</td>\n",
       "      <td>0.0</td>\n",
       "      <td>7814.0</td>\n",
       "      <td>188.0</td>\n",
       "    </tr>\n",
       "    <tr>\n",
       "      <th>6</th>\n",
       "      <td>001519c8</td>\n",
       "      <td>7</td>\n",
       "      <td>(90000, 120000]</td>\n",
       "      <td>2</td>\n",
       "      <td>Input</td>\n",
       "      <td>0.0</td>\n",
       "      <td>1.0</td>\n",
       "      <td>0.0</td>\n",
       "      <td>0</td>\n",
       "      <td>0.0</td>\n",
       "      <td>...</td>\n",
       "      <td>q</td>\n",
       "      <td>q</td>\n",
       "      <td>4</td>\n",
       "      <td>1</td>\n",
       "      <td>107400.0</td>\n",
       "      <td>69.0</td>\n",
       "      <td>(0.0, 500.0]</td>\n",
       "      <td>0.0</td>\n",
       "      <td>7814.0</td>\n",
       "      <td>188.0</td>\n",
       "    </tr>\n",
       "    <tr>\n",
       "      <th>7</th>\n",
       "      <td>001519c8</td>\n",
       "      <td>8</td>\n",
       "      <td>(90000, 120000]</td>\n",
       "      <td>2</td>\n",
       "      <td>Input</td>\n",
       "      <td>0.0</td>\n",
       "      <td>1.0</td>\n",
       "      <td>0.0</td>\n",
       "      <td>0</td>\n",
       "      <td>0.0</td>\n",
       "      <td>...</td>\n",
       "      <td>q</td>\n",
       "      <td>q</td>\n",
       "      <td>5</td>\n",
       "      <td>1</td>\n",
       "      <td>107596.0</td>\n",
       "      <td>63.0</td>\n",
       "      <td>(0.0, 500.0]</td>\n",
       "      <td>0.0</td>\n",
       "      <td>7814.0</td>\n",
       "      <td>188.0</td>\n",
       "    </tr>\n",
       "    <tr>\n",
       "      <th>8</th>\n",
       "      <td>001519c8</td>\n",
       "      <td>9</td>\n",
       "      <td>(90000, 120000]</td>\n",
       "      <td>2</td>\n",
       "      <td>Input</td>\n",
       "      <td>0.0</td>\n",
       "      <td>1.0</td>\n",
       "      <td>0.0</td>\n",
       "      <td>0</td>\n",
       "      <td>0.0</td>\n",
       "      <td>...</td>\n",
       "      <td>q</td>\n",
       "      <td>q</td>\n",
       "      <td>6</td>\n",
       "      <td>1</td>\n",
       "      <td>107766.0</td>\n",
       "      <td>NaN</td>\n",
       "      <td>NaN</td>\n",
       "      <td>0.0</td>\n",
       "      <td>7814.0</td>\n",
       "      <td>188.0</td>\n",
       "    </tr>\n",
       "    <tr>\n",
       "      <th>9</th>\n",
       "      <td>001519c8</td>\n",
       "      <td>10</td>\n",
       "      <td>(90000, 120000]</td>\n",
       "      <td>2</td>\n",
       "      <td>Input</td>\n",
       "      <td>0.0</td>\n",
       "      <td>1.0</td>\n",
       "      <td>0.0</td>\n",
       "      <td>0</td>\n",
       "      <td>0.0</td>\n",
       "      <td>...</td>\n",
       "      <td>Space</td>\n",
       "      <td></td>\n",
       "      <td>7</td>\n",
       "      <td>1</td>\n",
       "      <td>107852.0</td>\n",
       "      <td>NaN</td>\n",
       "      <td>NaN</td>\n",
       "      <td>0.0</td>\n",
       "      <td>7814.0</td>\n",
       "      <td>188.0</td>\n",
       "    </tr>\n",
       "  </tbody>\n",
       "</table>\n",
       "<p>10 rows × 33 columns</p>\n",
       "</div>"
      ],
      "text/plain": [
       "         id  event_id       window_30s  burst_id     burst_type  \\\n",
       "0  001519c8         1       (0, 30000]         1  Nonproduction   \n",
       "1  001519c8         2       (0, 30000]         1  Nonproduction   \n",
       "2  001519c8         3  (90000, 120000]         2          Input   \n",
       "3  001519c8         4  (90000, 120000]         2          Input   \n",
       "4  001519c8         5  (90000, 120000]         2          Input   \n",
       "5  001519c8         6  (90000, 120000]         2          Input   \n",
       "6  001519c8         7  (90000, 120000]         2          Input   \n",
       "7  001519c8         8  (90000, 120000]         2          Input   \n",
       "8  001519c8         9  (90000, 120000]         2          Input   \n",
       "9  001519c8        10  (90000, 120000]         2          Input   \n",
       "\n",
       "  burst_type_Nonproduction burst_type_Input burst_type_Remove/Cut  \\\n",
       "0                      1.0              0.0                   0.0   \n",
       "1                      1.0              0.0                   0.0   \n",
       "2                      0.0              1.0                   0.0   \n",
       "3                      0.0              1.0                   0.0   \n",
       "4                      0.0              1.0                   0.0   \n",
       "5                      0.0              1.0                   0.0   \n",
       "6                      0.0              1.0                   0.0   \n",
       "7                      0.0              1.0                   0.0   \n",
       "8                      0.0              1.0                   0.0   \n",
       "9                      0.0              1.0                   0.0   \n",
       "\n",
       "   is_new_burst_start is_new_burst_start_Nonproduction  ...   up_event  \\\n",
       "0                   1                              1.0  ...  Leftclick   \n",
       "1                   0                              0.0  ...  Leftclick   \n",
       "2                   1                              0.0  ...      Shift   \n",
       "3                   0                              0.0  ...          q   \n",
       "4                   0                              0.0  ...          q   \n",
       "5                   0                              0.0  ...          q   \n",
       "6                   0                              0.0  ...          q   \n",
       "7                   0                              0.0  ...          q   \n",
       "8                   0                              0.0  ...          q   \n",
       "9                   0                              0.0  ...      Space   \n",
       "\n",
       "  text_change  cursor_position  word_count  up_time_lag1  \\\n",
       "0    NoChange                0           0           NaN   \n",
       "1    NoChange                0           0        4557.0   \n",
       "2    NoChange                0           0        4962.0   \n",
       "3           q                1           1      106571.0   \n",
       "4           q                2           1      106777.0   \n",
       "5           q                3           1      107323.0   \n",
       "6           q                4           1      107400.0   \n",
       "7           q                5           1      107596.0   \n",
       "8           q                6           1      107766.0   \n",
       "9                            7           1      107852.0   \n",
       "\n",
       "   preceding_pause_time  preceding_pause_time_bucket  \\\n",
       "0                   NaN                          NaN   \n",
       "1                   1.0                 (0.0, 500.0]   \n",
       "2              101609.0         (101500.0, 102000.0]   \n",
       "3                 115.0                 (0.0, 500.0]   \n",
       "4                 419.0                 (0.0, 500.0]   \n",
       "5                   NaN                          NaN   \n",
       "6                  69.0                 (0.0, 500.0]   \n",
       "7                  63.0                 (0.0, 500.0]   \n",
       "8                   NaN                          NaN   \n",
       "9                   NaN                          NaN   \n",
       "\n",
       "   burst_action_time_Nonproduction burst_action_time_Input  \\\n",
       "0                            435.0                     0.0   \n",
       "1                            435.0                     0.0   \n",
       "2                              0.0                  7814.0   \n",
       "3                              0.0                  7814.0   \n",
       "4                              0.0                  7814.0   \n",
       "5                              0.0                  7814.0   \n",
       "6                              0.0                  7814.0   \n",
       "7                              0.0                  7814.0   \n",
       "8                              0.0                  7814.0   \n",
       "9                              0.0                  7814.0   \n",
       "\n",
       "  burst_action_time_Remove/Cut  \n",
       "0                          0.0  \n",
       "1                          0.0  \n",
       "2                        188.0  \n",
       "3                        188.0  \n",
       "4                        188.0  \n",
       "5                        188.0  \n",
       "6                        188.0  \n",
       "7                        188.0  \n",
       "8                        188.0  \n",
       "9                        188.0  \n",
       "\n",
       "[10 rows x 33 columns]"
      ]
     },
     "execution_count": 19,
     "metadata": {},
     "output_type": "execute_result"
    }
   ],
   "source": [
    "X_train_sub.head(10)"
   ]
  },
  {
   "cell_type": "code",
   "execution_count": 20,
   "metadata": {},
   "outputs": [
    {
     "name": "stderr",
     "output_type": "stream",
     "text": [
      "c:\\Users\\alexa\\Anaconda3\\lib\\site-packages\\plotnine\\layer.py:333: PlotnineWarning: stat_bin : Removed 902 rows containing non-finite values.\n"
     ]
    },
    {
     "data": {
      "image/png": "[encoded data removed]",
      "text/plain": [
       "<Figure size 640x480 with 1 Axes>"
      ]
     },
     "metadata": {
      "needs_background": "light"
     },
     "output_type": "display_data"
    },
    {
     "data": {
      "text/plain": [
       "<ggplot: (75302949343)>"
      ]
     },
     "execution_count": 20,
     "metadata": {},
     "output_type": "execute_result"
    }
   ],
   "source": [
    "(\n",
    "    p9.ggplot(X_train_sub) + \n",
    "    p9.geom_histogram(p9.aes('preceding_pause_time'), bins=30, color='white') + \n",
    "    p9.theme_minimal()\n",
    ")"
   ]
  },
  {
   "cell_type": "code",
   "execution_count": 21,
   "metadata": {},
   "outputs": [
    {
     "name": "stderr",
     "output_type": "stream",
     "text": [
      "c:\\Users\\alexa\\Anaconda3\\lib\\site-packages\\plotnine\\layer.py:333: PlotnineWarning: stat_bin : Removed 901 rows containing non-finite values.\n"
     ]
    },
    {
     "data": {
      "image/png": "[encoded data removed]",
      "text/plain": [
       "<Figure size 640x480 with 1 Axes>"
      ]
     },
     "metadata": {
      "needs_background": "light"
     },
     "output_type": "display_data"
    },
    {
     "data": {
      "text/plain": [
       "<ggplot: (75303084270)>"
      ]
     },
     "execution_count": 21,
     "metadata": {},
     "output_type": "execute_result"
    }
   ],
   "source": [
    "(\n",
    "    p9.ggplot(X_train_sub.iloc[4:]) + \n",
    "    p9.geom_histogram(p9.aes('preceding_pause_time'), bins=30, color='white') + \n",
    "    p9.theme_minimal()\n",
    ")"
   ]
  },
  {
   "cell_type": "code",
   "execution_count": 22,
   "metadata": {},
   "outputs": [
    {
     "name": "stderr",
     "output_type": "stream",
     "text": [
      "c:\\Users\\alexa\\Anaconda3\\lib\\site-packages\\plotnine\\geoms\\geom_path.py:75: PlotnineWarning: geom_path: Removed 1 rows containing missing values.\n"
     ]
    },
    {
     "data": {
      "image/png": "[encoded data removed]",
      "text/plain": [
       "<Figure size 640x480 with 1 Axes>"
      ]
     },
     "metadata": {},
     "output_type": "display_data"
    },
    {
     "data": {
      "text/plain": [
       "<ggplot: (75305261493)>"
      ]
     },
     "execution_count": 22,
     "metadata": {},
     "output_type": "execute_result"
    }
   ],
   "source": [
    "(\n",
    "    p9.ggplot(X_train_sub) + \n",
    "    p9.geom_line(p9.aes('event_id', 'preceding_pause_time'))\n",
    ")\n",
    "\n",
    "# longest pause was ~2 minutes ... relatively little planning time ...\n",
    "# might relate to data collection method. Mechanical Turk issued inactivity warning after 2 min.\n",
    "# but that hardly seems like a fair planning time."
   ]
  },
  {
   "cell_type": "code",
   "execution_count": 23,
   "metadata": {},
   "outputs": [
    {
     "data": {
      "image/png": "[encoded data removed]",
      "text/plain": [
       "<Figure size 640x480 with 1 Axes>"
      ]
     },
     "metadata": {},
     "output_type": "display_data"
    },
    {
     "data": {
      "text/plain": [
       "<ggplot: (75305288626)>"
      ]
     },
     "execution_count": 23,
     "metadata": {},
     "output_type": "execute_result"
    }
   ],
   "source": [
    "# what's the overall score distr look like?\n",
    "(\n",
    "    p9.ggplot(y_train) + \n",
    "    p9.geom_histogram(p9.aes('score'), bins=10, color='white')\n",
    ")"
   ]
  },
  {
   "cell_type": "code",
   "execution_count": null,
   "metadata": {},
   "outputs": [],
   "source": []
  },
  {
   "cell_type": "code",
   "execution_count": 24,
   "metadata": {},
   "outputs": [],
   "source": [
    "X_train_marginals_sum_wrt_time = (\n",
    "    X_train_sub\n",
    "    .groupby('id')\n",
    "    [\n",
    "        ['activity_' + x for x in ACTIVITY_CATEGORIES] \n",
    "        + ['is_new_burst_start'] \n",
    "        + ['is_new_burst_start_' + x for x in ACTIVITY_CATEGORIES]\n",
    "    ]\n",
    "    .agg(sum)\n",
    "    )\n",
    "X_train_marginals_sum_wrt_time['delete_insert_ratio'] = (\n",
    "    X_train_marginals_sum_wrt_time['activity_Remove/Cut'] / \n",
    "    X_train_marginals_sum_wrt_time['activity_Input'] \n",
    "    )"
   ]
  },
  {
   "cell_type": "code",
   "execution_count": 25,
   "metadata": {},
   "outputs": [
    {
     "data": {
      "text/html": [
       "<div>\n",
       "<style scoped>\n",
       "    .dataframe tbody tr th:only-of-type {\n",
       "        vertical-align: middle;\n",
       "    }\n",
       "\n",
       "    .dataframe tbody tr th {\n",
       "        vertical-align: top;\n",
       "    }\n",
       "\n",
       "    .dataframe thead th {\n",
       "        text-align: right;\n",
       "    }\n",
       "</style>\n",
       "<table border=\"1\" class=\"dataframe\">\n",
       "  <thead>\n",
       "    <tr style=\"text-align: right;\">\n",
       "      <th></th>\n",
       "      <th>activity_Nonproduction</th>\n",
       "      <th>activity_Input</th>\n",
       "      <th>activity_Remove/Cut</th>\n",
       "      <th>is_new_burst_start</th>\n",
       "      <th>is_new_burst_start_Nonproduction</th>\n",
       "      <th>is_new_burst_start_Input</th>\n",
       "      <th>is_new_burst_start_Remove/Cut</th>\n",
       "      <th>delete_insert_ratio</th>\n",
       "    </tr>\n",
       "    <tr>\n",
       "      <th>id</th>\n",
       "      <th></th>\n",
       "      <th></th>\n",
       "      <th></th>\n",
       "      <th></th>\n",
       "      <th></th>\n",
       "      <th></th>\n",
       "      <th></th>\n",
       "      <th></th>\n",
       "    </tr>\n",
       "  </thead>\n",
       "  <tbody>\n",
       "    <tr>\n",
       "      <th>001519c8</th>\n",
       "      <td>120.0</td>\n",
       "      <td>2010.0</td>\n",
       "      <td>417.0</td>\n",
       "      <td>125</td>\n",
       "      <td>27.0</td>\n",
       "      <td>86.0</td>\n",
       "      <td>12.0</td>\n",
       "      <td>0.207463</td>\n",
       "    </tr>\n",
       "  </tbody>\n",
       "</table>\n",
       "</div>"
      ],
      "text/plain": [
       "         activity_Nonproduction activity_Input activity_Remove/Cut  \\\n",
       "id                                                                   \n",
       "001519c8                  120.0         2010.0               417.0   \n",
       "\n",
       "          is_new_burst_start is_new_burst_start_Nonproduction  \\\n",
       "id                                                              \n",
       "001519c8                 125                             27.0   \n",
       "\n",
       "         is_new_burst_start_Input is_new_burst_start_Remove/Cut  \\\n",
       "id                                                                \n",
       "001519c8                     86.0                          12.0   \n",
       "\n",
       "         delete_insert_ratio  \n",
       "id                            \n",
       "001519c8            0.207463  "
      ]
     },
     "execution_count": 25,
     "metadata": {},
     "output_type": "execute_result"
    }
   ],
   "source": [
    "X_train_marginals_sum_wrt_time"
   ]
  },
  {
   "cell_type": "code",
   "execution_count": 26,
   "metadata": {},
   "outputs": [],
   "source": [
    "X_train_marginals_central_tendency_wrt_time = (\n",
    "    X_train_sub\n",
    "    .groupby('id')\n",
    "    .agg(\n",
    "        pause_time_p50 = ('preceding_pause_time', np.median),\n",
    "        burst_duration_mean = ('burst_duration', 'mean'),\n",
    "        burst_duration_p50 = ('burst_duration', np.median)\n",
    "        )\n",
    "    )"
   ]
  },
  {
   "cell_type": "code",
   "execution_count": 27,
   "metadata": {},
   "outputs": [
    {
     "data": {
      "text/html": [
       "<div>\n",
       "<style scoped>\n",
       "    .dataframe tbody tr th:only-of-type {\n",
       "        vertical-align: middle;\n",
       "    }\n",
       "\n",
       "    .dataframe tbody tr th {\n",
       "        vertical-align: top;\n",
       "    }\n",
       "\n",
       "    .dataframe thead th {\n",
       "        text-align: right;\n",
       "    }\n",
       "</style>\n",
       "<table border=\"1\" class=\"dataframe\">\n",
       "  <thead>\n",
       "    <tr style=\"text-align: right;\">\n",
       "      <th></th>\n",
       "      <th>pause_time_p50</th>\n",
       "      <th>burst_duration_mean</th>\n",
       "      <th>burst_duration_p50</th>\n",
       "    </tr>\n",
       "    <tr>\n",
       "      <th>id</th>\n",
       "      <th></th>\n",
       "      <th></th>\n",
       "      <th></th>\n",
       "    </tr>\n",
       "  </thead>\n",
       "  <tbody>\n",
       "    <tr>\n",
       "      <th>001519c8</th>\n",
       "      <td>91.0</td>\n",
       "      <td>9603.757137</td>\n",
       "      <td>8086.0</td>\n",
       "    </tr>\n",
       "  </tbody>\n",
       "</table>\n",
       "</div>"
      ],
      "text/plain": [
       "          pause_time_p50  burst_duration_mean  burst_duration_p50\n",
       "id                                                               \n",
       "001519c8            91.0          9603.757137              8086.0"
      ]
     },
     "execution_count": 27,
     "metadata": {},
     "output_type": "execute_result"
    }
   ],
   "source": [
    "X_train_marginals_central_tendency_wrt_time"
   ]
  },
  {
   "cell_type": "code",
   "execution_count": 28,
   "metadata": {},
   "outputs": [],
   "source": [
    "X_train_marginals_extremes_wrt_time = (\n",
    "    X_train_sub\n",
    "    .groupby('id')\n",
    "    .agg(\n",
    "        pause_time_max=('preceding_pause_time', 'max'),\n",
    "        # approximation to, next longest pause after first long planning pause\n",
    "        pause_time_p99=('preceding_pause_time', lambda x: x.quantile(0.99)),\n",
    "        burst_duration_max=('burst_duration', 'max'),\n",
    "        total_time=('up_time', 'max')\n",
    "        )\n",
    "    )"
   ]
  },
  {
   "cell_type": "code",
   "execution_count": 29,
   "metadata": {},
   "outputs": [
    {
     "data": {
      "text/html": [
       "<div>\n",
       "<style scoped>\n",
       "    .dataframe tbody tr th:only-of-type {\n",
       "        vertical-align: middle;\n",
       "    }\n",
       "\n",
       "    .dataframe tbody tr th {\n",
       "        vertical-align: top;\n",
       "    }\n",
       "\n",
       "    .dataframe thead th {\n",
       "        text-align: right;\n",
       "    }\n",
       "</style>\n",
       "<table border=\"1\" class=\"dataframe\">\n",
       "  <thead>\n",
       "    <tr style=\"text-align: right;\">\n",
       "      <th></th>\n",
       "      <th>pause_time_max</th>\n",
       "      <th>pause_time_p99</th>\n",
       "      <th>burst_duration_max</th>\n",
       "      <th>total_time</th>\n",
       "    </tr>\n",
       "    <tr>\n",
       "      <th>id</th>\n",
       "      <th></th>\n",
       "      <th></th>\n",
       "      <th></th>\n",
       "      <th></th>\n",
       "    </tr>\n",
       "  </thead>\n",
       "  <tbody>\n",
       "    <tr>\n",
       "      <th>001519c8</th>\n",
       "      <td>154136.0</td>\n",
       "      <td>14109.12</td>\n",
       "      <td>24633</td>\n",
       "      <td>1801969</td>\n",
       "    </tr>\n",
       "  </tbody>\n",
       "</table>\n",
       "</div>"
      ],
      "text/plain": [
       "          pause_time_max  pause_time_p99  burst_duration_max  total_time\n",
       "id                                                                      \n",
       "001519c8        154136.0        14109.12               24633     1801969"
      ]
     },
     "execution_count": 29,
     "metadata": {},
     "output_type": "execute_result"
    }
   ],
   "source": [
    "X_train_marginals_extremes_wrt_time"
   ]
  },
  {
   "cell_type": "code",
   "execution_count": 30,
   "metadata": {},
   "outputs": [],
   "source": [
    "from scipy.stats import lognorm\n",
    "\n",
    "shape, location, scale = lognorm.fit(X_train_sub['preceding_pause_time'].dropna())\n",
    "X_train_marginals_distr_params_wrt_time = pd.DataFrame({\n",
    "    'id': [X_train_sub['id'][0]],\n",
    "    'pauses_lognorm_shape': [shape], \n",
    "    'pauses_lognorm_location': [location],\n",
    "    'pauses_lognorm_scale': [scale]\n",
    "})"
   ]
  },
  {
   "cell_type": "code",
   "execution_count": 31,
   "metadata": {},
   "outputs": [
    {
     "data": {
      "text/html": [
       "<div>\n",
       "<style scoped>\n",
       "    .dataframe tbody tr th:only-of-type {\n",
       "        vertical-align: middle;\n",
       "    }\n",
       "\n",
       "    .dataframe tbody tr th {\n",
       "        vertical-align: top;\n",
       "    }\n",
       "\n",
       "    .dataframe thead th {\n",
       "        text-align: right;\n",
       "    }\n",
       "</style>\n",
       "<table border=\"1\" class=\"dataframe\">\n",
       "  <thead>\n",
       "    <tr style=\"text-align: right;\">\n",
       "      <th></th>\n",
       "      <th>id</th>\n",
       "      <th>pauses_lognorm_shape</th>\n",
       "      <th>pauses_lognorm_location</th>\n",
       "      <th>pauses_lognorm_scale</th>\n",
       "    </tr>\n",
       "  </thead>\n",
       "  <tbody>\n",
       "    <tr>\n",
       "      <th>0</th>\n",
       "      <td>001519c8</td>\n",
       "      <td>1.600439</td>\n",
       "      <td>0.650173</td>\n",
       "      <td>141.125479</td>\n",
       "    </tr>\n",
       "  </tbody>\n",
       "</table>\n",
       "</div>"
      ],
      "text/plain": [
       "         id  pauses_lognorm_shape  pauses_lognorm_location  \\\n",
       "0  001519c8              1.600439                 0.650173   \n",
       "\n",
       "   pauses_lognorm_scale  \n",
       "0            141.125479  "
      ]
     },
     "execution_count": 31,
     "metadata": {},
     "output_type": "execute_result"
    }
   ],
   "source": [
    "X_train_marginals_distr_params_wrt_time"
   ]
  },
  {
   "cell_type": "code",
   "execution_count": 32,
   "metadata": {},
   "outputs": [],
   "source": [
    "X_train_marginals_wrt_time = pd.merge(\n",
    "    X_train_marginals_sum_wrt_time, \n",
    "    X_train_marginals_central_tendency_wrt_time,\n",
    "    how='left',\n",
    "    on=['id']\n",
    "    )\n",
    "\n",
    "X_train_marginals_wrt_time = pd.merge(\n",
    "    X_train_marginals_wrt_time, \n",
    "    X_train_marginals_extremes_wrt_time,\n",
    "    how='left',\n",
    "    on=['id']\n",
    "    )\n",
    "\n",
    "X_train_marginals_wrt_time = (\n",
    "    X_train_marginals_wrt_time\n",
    "    .assign(writing_speed = lambda x: (x.activity_Input + x['activity_Remove/Cut']) / x.total_time)\n",
    "    )"
   ]
  },
  {
   "cell_type": "code",
   "execution_count": 33,
   "metadata": {},
   "outputs": [
    {
     "data": {
      "text/html": [
       "<div>\n",
       "<style scoped>\n",
       "    .dataframe tbody tr th:only-of-type {\n",
       "        vertical-align: middle;\n",
       "    }\n",
       "\n",
       "    .dataframe tbody tr th {\n",
       "        vertical-align: top;\n",
       "    }\n",
       "\n",
       "    .dataframe thead th {\n",
       "        text-align: right;\n",
       "    }\n",
       "</style>\n",
       "<table border=\"1\" class=\"dataframe\">\n",
       "  <thead>\n",
       "    <tr style=\"text-align: right;\">\n",
       "      <th></th>\n",
       "      <th>activity_Nonproduction</th>\n",
       "      <th>activity_Input</th>\n",
       "      <th>activity_Remove/Cut</th>\n",
       "      <th>is_new_burst_start</th>\n",
       "      <th>is_new_burst_start_Nonproduction</th>\n",
       "      <th>is_new_burst_start_Input</th>\n",
       "      <th>is_new_burst_start_Remove/Cut</th>\n",
       "      <th>delete_insert_ratio</th>\n",
       "      <th>pause_time_p50</th>\n",
       "      <th>burst_duration_mean</th>\n",
       "      <th>burst_duration_p50</th>\n",
       "      <th>pause_time_max</th>\n",
       "      <th>pause_time_p99</th>\n",
       "      <th>burst_duration_max</th>\n",
       "      <th>total_time</th>\n",
       "      <th>writing_speed</th>\n",
       "    </tr>\n",
       "    <tr>\n",
       "      <th>id</th>\n",
       "      <th></th>\n",
       "      <th></th>\n",
       "      <th></th>\n",
       "      <th></th>\n",
       "      <th></th>\n",
       "      <th></th>\n",
       "      <th></th>\n",
       "      <th></th>\n",
       "      <th></th>\n",
       "      <th></th>\n",
       "      <th></th>\n",
       "      <th></th>\n",
       "      <th></th>\n",
       "      <th></th>\n",
       "      <th></th>\n",
       "      <th></th>\n",
       "    </tr>\n",
       "  </thead>\n",
       "  <tbody>\n",
       "    <tr>\n",
       "      <th>001519c8</th>\n",
       "      <td>120.0</td>\n",
       "      <td>2010.0</td>\n",
       "      <td>417.0</td>\n",
       "      <td>125</td>\n",
       "      <td>27.0</td>\n",
       "      <td>86.0</td>\n",
       "      <td>12.0</td>\n",
       "      <td>0.207463</td>\n",
       "      <td>91.0</td>\n",
       "      <td>9603.757137</td>\n",
       "      <td>8086.0</td>\n",
       "      <td>154136.0</td>\n",
       "      <td>14109.12</td>\n",
       "      <td>24633</td>\n",
       "      <td>1801969</td>\n",
       "      <td>0.001347</td>\n",
       "    </tr>\n",
       "  </tbody>\n",
       "</table>\n",
       "</div>"
      ],
      "text/plain": [
       "         activity_Nonproduction activity_Input activity_Remove/Cut  \\\n",
       "id                                                                   \n",
       "001519c8                  120.0         2010.0               417.0   \n",
       "\n",
       "          is_new_burst_start is_new_burst_start_Nonproduction  \\\n",
       "id                                                              \n",
       "001519c8                 125                             27.0   \n",
       "\n",
       "         is_new_burst_start_Input is_new_burst_start_Remove/Cut  \\\n",
       "id                                                                \n",
       "001519c8                     86.0                          12.0   \n",
       "\n",
       "         delete_insert_ratio  pause_time_p50  burst_duration_mean  \\\n",
       "id                                                                  \n",
       "001519c8            0.207463            91.0          9603.757137   \n",
       "\n",
       "          burst_duration_p50  pause_time_max  pause_time_p99  \\\n",
       "id                                                             \n",
       "001519c8              8086.0        154136.0        14109.12   \n",
       "\n",
       "          burst_duration_max  total_time writing_speed  \n",
       "id                                                      \n",
       "001519c8               24633     1801969      0.001347  "
      ]
     },
     "execution_count": 33,
     "metadata": {},
     "output_type": "execute_result"
    }
   ],
   "source": [
    "X_train_marginals_wrt_time"
   ]
  },
  {
   "cell_type": "code",
   "execution_count": null,
   "metadata": {},
   "outputs": [],
   "source": []
  },
  {
   "cell_type": "code",
   "execution_count": 34,
   "metadata": {},
   "outputs": [],
   "source": [
    "X_train_by_window = (\n",
    "    X_train_sub\n",
    "    .groupby(['id', 'window_30s'])\n",
    "    [\n",
    "        ['activity_' + x for x in ACTIVITY_CATEGORIES] \n",
    "        + ['is_new_burst_start'] \n",
    "        + ['is_new_burst_start_' + x for x in ACTIVITY_CATEGORIES]\n",
    "    ]\n",
    "    .agg(sum)\n",
    "    .astype(float)\n",
    "    .reset_index(drop=False)\n",
    "    )\n",
    "\n",
    "X_train_by_window['delete_insert_ratio'] = (\n",
    "    X_train_by_window['activity_Remove/Cut'] / \n",
    "    X_train_by_window['activity_Input'] \n",
    "    )\n",
    "\n",
    "X_train_by_window['window_30s_idx'] = X_train_by_window.index"
   ]
  },
  {
   "cell_type": "code",
   "execution_count": 35,
   "metadata": {},
   "outputs": [
    {
     "data": {
      "text/html": [
       "<div>\n",
       "<style scoped>\n",
       "    .dataframe tbody tr th:only-of-type {\n",
       "        vertical-align: middle;\n",
       "    }\n",
       "\n",
       "    .dataframe tbody tr th {\n",
       "        vertical-align: top;\n",
       "    }\n",
       "\n",
       "    .dataframe thead th {\n",
       "        text-align: right;\n",
       "    }\n",
       "</style>\n",
       "<table border=\"1\" class=\"dataframe\">\n",
       "  <thead>\n",
       "    <tr style=\"text-align: right;\">\n",
       "      <th></th>\n",
       "      <th>id</th>\n",
       "      <th>window_30s</th>\n",
       "      <th>activity_Nonproduction</th>\n",
       "      <th>activity_Input</th>\n",
       "      <th>activity_Remove/Cut</th>\n",
       "      <th>is_new_burst_start</th>\n",
       "      <th>is_new_burst_start_Nonproduction</th>\n",
       "      <th>is_new_burst_start_Input</th>\n",
       "      <th>is_new_burst_start_Remove/Cut</th>\n",
       "      <th>delete_insert_ratio</th>\n",
       "      <th>window_30s_idx</th>\n",
       "    </tr>\n",
       "  </thead>\n",
       "  <tbody>\n",
       "    <tr>\n",
       "      <th>0</th>\n",
       "      <td>001519c8</td>\n",
       "      <td>(0, 30000]</td>\n",
       "      <td>2.0</td>\n",
       "      <td>0.0</td>\n",
       "      <td>0.0</td>\n",
       "      <td>1.0</td>\n",
       "      <td>1.0</td>\n",
       "      <td>0.0</td>\n",
       "      <td>0.0</td>\n",
       "      <td>NaN</td>\n",
       "      <td>0</td>\n",
       "    </tr>\n",
       "    <tr>\n",
       "      <th>1</th>\n",
       "      <td>001519c8</td>\n",
       "      <td>(30000, 60000]</td>\n",
       "      <td>0.0</td>\n",
       "      <td>0.0</td>\n",
       "      <td>0.0</td>\n",
       "      <td>0.0</td>\n",
       "      <td>0.0</td>\n",
       "      <td>0.0</td>\n",
       "      <td>0.0</td>\n",
       "      <td>NaN</td>\n",
       "      <td>1</td>\n",
       "    </tr>\n",
       "    <tr>\n",
       "      <th>2</th>\n",
       "      <td>001519c8</td>\n",
       "      <td>(60000, 90000]</td>\n",
       "      <td>0.0</td>\n",
       "      <td>0.0</td>\n",
       "      <td>0.0</td>\n",
       "      <td>0.0</td>\n",
       "      <td>0.0</td>\n",
       "      <td>0.0</td>\n",
       "      <td>0.0</td>\n",
       "      <td>NaN</td>\n",
       "      <td>2</td>\n",
       "    </tr>\n",
       "    <tr>\n",
       "      <th>3</th>\n",
       "      <td>001519c8</td>\n",
       "      <td>(90000, 120000]</td>\n",
       "      <td>1.0</td>\n",
       "      <td>61.0</td>\n",
       "      <td>2.0</td>\n",
       "      <td>1.0</td>\n",
       "      <td>0.0</td>\n",
       "      <td>1.0</td>\n",
       "      <td>0.0</td>\n",
       "      <td>0.032787</td>\n",
       "      <td>3</td>\n",
       "    </tr>\n",
       "    <tr>\n",
       "      <th>4</th>\n",
       "      <td>001519c8</td>\n",
       "      <td>(120000, 150000]</td>\n",
       "      <td>0.0</td>\n",
       "      <td>0.0</td>\n",
       "      <td>3.0</td>\n",
       "      <td>1.0</td>\n",
       "      <td>0.0</td>\n",
       "      <td>0.0</td>\n",
       "      <td>1.0</td>\n",
       "      <td>inf</td>\n",
       "      <td>4</td>\n",
       "    </tr>\n",
       "    <tr>\n",
       "      <th>5</th>\n",
       "      <td>001519c8</td>\n",
       "      <td>(150000, 180000]</td>\n",
       "      <td>1.0</td>\n",
       "      <td>71.0</td>\n",
       "      <td>21.0</td>\n",
       "      <td>3.0</td>\n",
       "      <td>1.0</td>\n",
       "      <td>1.0</td>\n",
       "      <td>1.0</td>\n",
       "      <td>0.295775</td>\n",
       "      <td>5</td>\n",
       "    </tr>\n",
       "    <tr>\n",
       "      <th>6</th>\n",
       "      <td>001519c8</td>\n",
       "      <td>(180000, 210000]</td>\n",
       "      <td>9.0</td>\n",
       "      <td>16.0</td>\n",
       "      <td>7.0</td>\n",
       "      <td>2.0</td>\n",
       "      <td>0.0</td>\n",
       "      <td>2.0</td>\n",
       "      <td>0.0</td>\n",
       "      <td>0.437500</td>\n",
       "      <td>6</td>\n",
       "    </tr>\n",
       "    <tr>\n",
       "      <th>7</th>\n",
       "      <td>001519c8</td>\n",
       "      <td>(210000, 240000]</td>\n",
       "      <td>0.0</td>\n",
       "      <td>18.0</td>\n",
       "      <td>24.0</td>\n",
       "      <td>2.0</td>\n",
       "      <td>0.0</td>\n",
       "      <td>1.0</td>\n",
       "      <td>1.0</td>\n",
       "      <td>1.333333</td>\n",
       "      <td>7</td>\n",
       "    </tr>\n",
       "    <tr>\n",
       "      <th>8</th>\n",
       "      <td>001519c8</td>\n",
       "      <td>(240000, 270000]</td>\n",
       "      <td>6.0</td>\n",
       "      <td>17.0</td>\n",
       "      <td>9.0</td>\n",
       "      <td>4.0</td>\n",
       "      <td>1.0</td>\n",
       "      <td>2.0</td>\n",
       "      <td>1.0</td>\n",
       "      <td>0.529412</td>\n",
       "      <td>8</td>\n",
       "    </tr>\n",
       "    <tr>\n",
       "      <th>9</th>\n",
       "      <td>001519c8</td>\n",
       "      <td>(270000, 300000]</td>\n",
       "      <td>0.0</td>\n",
       "      <td>52.0</td>\n",
       "      <td>20.0</td>\n",
       "      <td>3.0</td>\n",
       "      <td>0.0</td>\n",
       "      <td>2.0</td>\n",
       "      <td>1.0</td>\n",
       "      <td>0.384615</td>\n",
       "      <td>9</td>\n",
       "    </tr>\n",
       "  </tbody>\n",
       "</table>\n",
       "</div>"
      ],
      "text/plain": [
       "         id        window_30s  activity_Nonproduction  activity_Input  \\\n",
       "0  001519c8        (0, 30000]                     2.0             0.0   \n",
       "1  001519c8    (30000, 60000]                     0.0             0.0   \n",
       "2  001519c8    (60000, 90000]                     0.0             0.0   \n",
       "3  001519c8   (90000, 120000]                     1.0            61.0   \n",
       "4  001519c8  (120000, 150000]                     0.0             0.0   \n",
       "5  001519c8  (150000, 180000]                     1.0            71.0   \n",
       "6  001519c8  (180000, 210000]                     9.0            16.0   \n",
       "7  001519c8  (210000, 240000]                     0.0            18.0   \n",
       "8  001519c8  (240000, 270000]                     6.0            17.0   \n",
       "9  001519c8  (270000, 300000]                     0.0            52.0   \n",
       "\n",
       "   activity_Remove/Cut  is_new_burst_start  is_new_burst_start_Nonproduction  \\\n",
       "0                  0.0                 1.0                               1.0   \n",
       "1                  0.0                 0.0                               0.0   \n",
       "2                  0.0                 0.0                               0.0   \n",
       "3                  2.0                 1.0                               0.0   \n",
       "4                  3.0                 1.0                               0.0   \n",
       "5                 21.0                 3.0                               1.0   \n",
       "6                  7.0                 2.0                               0.0   \n",
       "7                 24.0                 2.0                               0.0   \n",
       "8                  9.0                 4.0                               1.0   \n",
       "9                 20.0                 3.0                               0.0   \n",
       "\n",
       "   is_new_burst_start_Input  is_new_burst_start_Remove/Cut  \\\n",
       "0                       0.0                            0.0   \n",
       "1                       0.0                            0.0   \n",
       "2                       0.0                            0.0   \n",
       "3                       1.0                            0.0   \n",
       "4                       0.0                            1.0   \n",
       "5                       1.0                            1.0   \n",
       "6                       2.0                            0.0   \n",
       "7                       1.0                            1.0   \n",
       "8                       2.0                            1.0   \n",
       "9                       2.0                            1.0   \n",
       "\n",
       "   delete_insert_ratio  window_30s_idx  \n",
       "0                  NaN               0  \n",
       "1                  NaN               1  \n",
       "2                  NaN               2  \n",
       "3             0.032787               3  \n",
       "4                  inf               4  \n",
       "5             0.295775               5  \n",
       "6             0.437500               6  \n",
       "7             1.333333               7  \n",
       "8             0.529412               8  \n",
       "9             0.384615               9  "
      ]
     },
     "execution_count": 35,
     "metadata": {},
     "output_type": "execute_result"
    }
   ],
   "source": [
    "X_train_by_window.head(10)"
   ]
  },
  {
   "cell_type": "code",
   "execution_count": 36,
   "metadata": {},
   "outputs": [
    {
     "data": {
      "image/png": "[encoded data removed]",
      "text/plain": [
       "<Figure size 640x480 with 1 Axes>"
      ]
     },
     "metadata": {},
     "output_type": "display_data"
    },
    {
     "data": {
      "text/plain": [
       "<ggplot: (75305355855)>"
      ]
     },
     "execution_count": 36,
     "metadata": {},
     "output_type": "execute_result"
    }
   ],
   "source": [
    "(\n",
    "    p9.ggplot(X_train_by_window) + \n",
    "    p9.geom_line(p9.aes('window_30s_idx', 'activity_Nonproduction'))\n",
    ")"
   ]
  },
  {
   "cell_type": "code",
   "execution_count": 37,
   "metadata": {},
   "outputs": [
    {
     "data": {
      "image/png": "[encoded data removed]",
      "text/plain": [
       "<Figure size 640x480 with 1 Axes>"
      ]
     },
     "metadata": {},
     "output_type": "display_data"
    },
    {
     "data": {
      "text/plain": [
       "<ggplot: (75305386114)>"
      ]
     },
     "execution_count": 37,
     "metadata": {},
     "output_type": "execute_result"
    }
   ],
   "source": [
    "(\n",
    "    p9.ggplot(X_train_by_window) + \n",
    "    p9.geom_line(p9.aes('window_30s_idx', 'activity_Input'))\n",
    ")"
   ]
  },
  {
   "cell_type": "code",
   "execution_count": 38,
   "metadata": {},
   "outputs": [
    {
     "data": {
      "image/png": "[encoded data removed]",
      "text/plain": [
       "<Figure size 640x480 with 1 Axes>"
      ]
     },
     "metadata": {},
     "output_type": "display_data"
    },
    {
     "data": {
      "text/plain": [
       "<ggplot: (75305419138)>"
      ]
     },
     "execution_count": 38,
     "metadata": {},
     "output_type": "execute_result"
    }
   ],
   "source": [
    "(\n",
    "    p9.ggplot(X_train_by_window) + \n",
    "    p9.geom_line(p9.aes('window_30s_idx', 'activity_Remove/Cut'))\n",
    ")"
   ]
  },
  {
   "cell_type": "code",
   "execution_count": 39,
   "metadata": {},
   "outputs": [
    {
     "name": "stderr",
     "output_type": "stream",
     "text": [
      "c:\\Users\\alexa\\Anaconda3\\lib\\site-packages\\plotnine\\geoms\\geom_path.py:75: PlotnineWarning: geom_path: Removed 3 rows containing missing values.\n"
     ]
    },
    {
     "data": {
      "image/png": "[encoded data removed]",
      "text/plain": [
       "<Figure size 640x480 with 1 Axes>"
      ]
     },
     "metadata": {},
     "output_type": "display_data"
    },
    {
     "data": {
      "text/plain": [
       "<ggplot: (75305453719)>"
      ]
     },
     "execution_count": 39,
     "metadata": {},
     "output_type": "execute_result"
    }
   ],
   "source": [
    "(\n",
    "    p9.ggplot(X_train_by_window) + \n",
    "    p9.geom_line(p9.aes('window_30s_idx', 'delete_insert_ratio'))\n",
    ")"
   ]
  },
  {
   "cell_type": "code",
   "execution_count": 40,
   "metadata": {},
   "outputs": [
    {
     "data": {
      "image/png": "[encoded data removed]",
      "text/plain": [
       "<Figure size 640x480 with 1 Axes>"
      ]
     },
     "metadata": {},
     "output_type": "display_data"
    },
    {
     "data": {
      "text/plain": [
       "<ggplot: (75305486493)>"
      ]
     },
     "execution_count": 40,
     "metadata": {},
     "output_type": "execute_result"
    }
   ],
   "source": [
    "(\n",
    "    p9.ggplot(X_train_by_window) + \n",
    "    p9.geom_line(p9.aes('window_30s_idx', 'is_new_burst_start'))\n",
    ")"
   ]
  },
  {
   "cell_type": "code",
   "execution_count": 43,
   "metadata": {},
   "outputs": [
    {
     "data": {
      "image/png": "[encoded data removed]",
      "text/plain": [
       "<Figure size 640x480 with 1 Axes>"
      ]
     },
     "metadata": {},
     "output_type": "display_data"
    },
    {
     "data": {
      "text/plain": [
       "<ggplot: (75305453632)>"
      ]
     },
     "execution_count": 43,
     "metadata": {},
     "output_type": "execute_result"
    }
   ],
   "source": [
    "(\n",
    "    p9.ggplot(X_train_by_window) + \n",
    "    p9.geom_line(p9.aes('window_30s_idx', 'is_new_burst_start_Nonproduction'))\n",
    ")"
   ]
  },
  {
   "cell_type": "code",
   "execution_count": 44,
   "metadata": {},
   "outputs": [
    {
     "data": {
      "image/png": "[encoded data removed]",
      "text/plain": [
       "<Figure size 640x480 with 1 Axes>"
      ]
     },
     "metadata": {},
     "output_type": "display_data"
    },
    {
     "data": {
      "text/plain": [
       "<ggplot: (75305552936)>"
      ]
     },
     "execution_count": 44,
     "metadata": {},
     "output_type": "execute_result"
    }
   ],
   "source": [
    "(\n",
    "    p9.ggplot(X_train_by_window) + \n",
    "    p9.geom_line(p9.aes('window_30s_idx', 'is_new_burst_start_Input'))\n",
    ")"
   ]
  },
  {
   "cell_type": "code",
   "execution_count": 45,
   "metadata": {},
   "outputs": [
    {
     "data": {
      "image/png": "[encoded data removed]",
      "text/plain": [
       "<Figure size 640x480 with 1 Axes>"
      ]
     },
     "metadata": {},
     "output_type": "display_data"
    },
    {
     "data": {
      "text/plain": [
       "<ggplot: (75305427779)>"
      ]
     },
     "execution_count": 45,
     "metadata": {},
     "output_type": "execute_result"
    }
   ],
   "source": [
    "(\n",
    "    p9.ggplot(X_train_by_window) + \n",
    "    p9.geom_line(p9.aes('window_30s_idx', 'is_new_burst_start_Remove/Cut'))\n",
    ")"
   ]
  },
  {
   "cell_type": "code",
   "execution_count": null,
   "metadata": {},
   "outputs": [],
   "source": []
  },
  {
   "cell_type": "code",
   "execution_count": 41,
   "metadata": {},
   "outputs": [],
   "source": [
    "X_train_windows_variation = (\n",
    "    X_train_by_window\n",
    "    .drop(columns=['window_30s', 'window_30s_idx'])\n",
    "    .groupby(['id'])\n",
    "    .agg(np.std)\n",
    "    )"
   ]
  },
  {
   "cell_type": "code",
   "execution_count": 42,
   "metadata": {},
   "outputs": [
    {
     "data": {
      "text/html": [
       "<div>\n",
       "<style scoped>\n",
       "    .dataframe tbody tr th:only-of-type {\n",
       "        vertical-align: middle;\n",
       "    }\n",
       "\n",
       "    .dataframe tbody tr th {\n",
       "        vertical-align: top;\n",
       "    }\n",
       "\n",
       "    .dataframe thead th {\n",
       "        text-align: right;\n",
       "    }\n",
       "</style>\n",
       "<table border=\"1\" class=\"dataframe\">\n",
       "  <thead>\n",
       "    <tr style=\"text-align: right;\">\n",
       "      <th></th>\n",
       "      <th>activity_Nonproduction</th>\n",
       "      <th>activity_Input</th>\n",
       "      <th>activity_Remove/Cut</th>\n",
       "      <th>is_new_burst_start</th>\n",
       "      <th>is_new_burst_start_Nonproduction</th>\n",
       "      <th>is_new_burst_start_Input</th>\n",
       "      <th>is_new_burst_start_Remove/Cut</th>\n",
       "      <th>delete_insert_ratio</th>\n",
       "    </tr>\n",
       "    <tr>\n",
       "      <th>id</th>\n",
       "      <th></th>\n",
       "      <th></th>\n",
       "      <th></th>\n",
       "      <th></th>\n",
       "      <th></th>\n",
       "      <th></th>\n",
       "      <th></th>\n",
       "      <th></th>\n",
       "    </tr>\n",
       "  </thead>\n",
       "  <tbody>\n",
       "    <tr>\n",
       "      <th>001519c8</th>\n",
       "      <td>3.039244</td>\n",
       "      <td>29.025121</td>\n",
       "      <td>8.569605</td>\n",
       "      <td>1.205449</td>\n",
       "      <td>0.810245</td>\n",
       "      <td>1.079339</td>\n",
       "      <td>0.403376</td>\n",
       "      <td>NaN</td>\n",
       "    </tr>\n",
       "  </tbody>\n",
       "</table>\n",
       "</div>"
      ],
      "text/plain": [
       "          activity_Nonproduction  activity_Input  activity_Remove/Cut  \\\n",
       "id                                                                      \n",
       "001519c8                3.039244       29.025121             8.569605   \n",
       "\n",
       "          is_new_burst_start  is_new_burst_start_Nonproduction  \\\n",
       "id                                                               \n",
       "001519c8            1.205449                          0.810245   \n",
       "\n",
       "          is_new_burst_start_Input  is_new_burst_start_Remove/Cut  \\\n",
       "id                                                                  \n",
       "001519c8                  1.079339                       0.403376   \n",
       "\n",
       "          delete_insert_ratio  \n",
       "id                             \n",
       "001519c8                  NaN  "
      ]
     },
     "execution_count": 42,
     "metadata": {},
     "output_type": "execute_result"
    }
   ],
   "source": [
    "X_train_windows_variation"
   ]
  },
  {
   "cell_type": "code",
   "execution_count": null,
   "metadata": {},
   "outputs": [],
   "source": []
  }
 ],
 "metadata": {
  "kernelspec": {
   "display_name": "base",
   "language": "python",
   "name": "python3"
  },
  "language_info": {
   "codemirror_mode": {
    "name": "ipython",
    "version": 3
   },
   "file_extension": ".py",
   "mimetype": "text/x-python",
   "name": "python",
   "nbconvert_exporter": "python",
   "pygments_lexer": "ipython3",
   "version": "3.9.13"
  }
 },
 "nbformat": 4,
 "nbformat_minor": 2
}
